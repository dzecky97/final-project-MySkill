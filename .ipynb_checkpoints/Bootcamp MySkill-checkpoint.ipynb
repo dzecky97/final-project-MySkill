{
 "cells": [
  {
   "cell_type": "code",
   "execution_count": 1,
   "id": "3fe6ec20",
   "metadata": {},
   "outputs": [],
   "source": [
    "import pandas as pd\n",
    "import numpy as np\n",
    "import matplotlib.pyplot as plt\n",
    "\n",
    "import seaborn as sns\n",
    "#import re\n",
    "#sns.set()"
   ]
  },
  {
   "cell_type": "code",
   "execution_count": 3,
   "id": "bf9701a1",
   "metadata": {},
   "outputs": [
    {
     "ename": "FileNotFoundError",
     "evalue": "[Errno 2] No such file or directory: 'My Skill/hotel.csv'",
     "output_type": "error",
     "traceback": [
      "\u001b[1;31m---------------------------------------------------------------------------\u001b[0m",
      "\u001b[1;31mFileNotFoundError\u001b[0m                         Traceback (most recent call last)",
      "\u001b[1;32m~\\AppData\\Local\\Temp\\ipykernel_11092\\3101519390.py\u001b[0m in \u001b[0;36m<module>\u001b[1;34m\u001b[0m\n\u001b[1;32m----> 1\u001b[1;33m \u001b[0mdf\u001b[0m \u001b[1;33m=\u001b[0m \u001b[0mpd\u001b[0m\u001b[1;33m.\u001b[0m\u001b[0mread_csv\u001b[0m\u001b[1;33m(\u001b[0m\u001b[1;34m'My Skill/hotel.csv'\u001b[0m\u001b[1;33m)\u001b[0m\u001b[1;33m\u001b[0m\u001b[1;33m\u001b[0m\u001b[0m\n\u001b[0m\u001b[0;32m      2\u001b[0m \u001b[0mdf\u001b[0m\u001b[1;33m.\u001b[0m\u001b[0mhead\u001b[0m\u001b[1;33m(\u001b[0m\u001b[1;33m)\u001b[0m\u001b[1;33m\u001b[0m\u001b[1;33m\u001b[0m\u001b[0m\n",
      "\u001b[1;32mE:\\Anaconda\\lib\\site-packages\\pandas\\util\\_decorators.py\u001b[0m in \u001b[0;36mwrapper\u001b[1;34m(*args, **kwargs)\u001b[0m\n\u001b[0;32m    309\u001b[0m                     \u001b[0mstacklevel\u001b[0m\u001b[1;33m=\u001b[0m\u001b[0mstacklevel\u001b[0m\u001b[1;33m,\u001b[0m\u001b[1;33m\u001b[0m\u001b[1;33m\u001b[0m\u001b[0m\n\u001b[0;32m    310\u001b[0m                 )\n\u001b[1;32m--> 311\u001b[1;33m             \u001b[1;32mreturn\u001b[0m \u001b[0mfunc\u001b[0m\u001b[1;33m(\u001b[0m\u001b[1;33m*\u001b[0m\u001b[0margs\u001b[0m\u001b[1;33m,\u001b[0m \u001b[1;33m**\u001b[0m\u001b[0mkwargs\u001b[0m\u001b[1;33m)\u001b[0m\u001b[1;33m\u001b[0m\u001b[1;33m\u001b[0m\u001b[0m\n\u001b[0m\u001b[0;32m    312\u001b[0m \u001b[1;33m\u001b[0m\u001b[0m\n\u001b[0;32m    313\u001b[0m         \u001b[1;32mreturn\u001b[0m \u001b[0mwrapper\u001b[0m\u001b[1;33m\u001b[0m\u001b[1;33m\u001b[0m\u001b[0m\n",
      "\u001b[1;32mE:\\Anaconda\\lib\\site-packages\\pandas\\io\\parsers\\readers.py\u001b[0m in \u001b[0;36mread_csv\u001b[1;34m(filepath_or_buffer, sep, delimiter, header, names, index_col, usecols, squeeze, prefix, mangle_dupe_cols, dtype, engine, converters, true_values, false_values, skipinitialspace, skiprows, skipfooter, nrows, na_values, keep_default_na, na_filter, verbose, skip_blank_lines, parse_dates, infer_datetime_format, keep_date_col, date_parser, dayfirst, cache_dates, iterator, chunksize, compression, thousands, decimal, lineterminator, quotechar, quoting, doublequote, escapechar, comment, encoding, encoding_errors, dialect, error_bad_lines, warn_bad_lines, on_bad_lines, delim_whitespace, low_memory, memory_map, float_precision, storage_options)\u001b[0m\n\u001b[0;32m    676\u001b[0m     \u001b[0mkwds\u001b[0m\u001b[1;33m.\u001b[0m\u001b[0mupdate\u001b[0m\u001b[1;33m(\u001b[0m\u001b[0mkwds_defaults\u001b[0m\u001b[1;33m)\u001b[0m\u001b[1;33m\u001b[0m\u001b[1;33m\u001b[0m\u001b[0m\n\u001b[0;32m    677\u001b[0m \u001b[1;33m\u001b[0m\u001b[0m\n\u001b[1;32m--> 678\u001b[1;33m     \u001b[1;32mreturn\u001b[0m \u001b[0m_read\u001b[0m\u001b[1;33m(\u001b[0m\u001b[0mfilepath_or_buffer\u001b[0m\u001b[1;33m,\u001b[0m \u001b[0mkwds\u001b[0m\u001b[1;33m)\u001b[0m\u001b[1;33m\u001b[0m\u001b[1;33m\u001b[0m\u001b[0m\n\u001b[0m\u001b[0;32m    679\u001b[0m \u001b[1;33m\u001b[0m\u001b[0m\n\u001b[0;32m    680\u001b[0m \u001b[1;33m\u001b[0m\u001b[0m\n",
      "\u001b[1;32mE:\\Anaconda\\lib\\site-packages\\pandas\\io\\parsers\\readers.py\u001b[0m in \u001b[0;36m_read\u001b[1;34m(filepath_or_buffer, kwds)\u001b[0m\n\u001b[0;32m    573\u001b[0m \u001b[1;33m\u001b[0m\u001b[0m\n\u001b[0;32m    574\u001b[0m     \u001b[1;31m# Create the parser.\u001b[0m\u001b[1;33m\u001b[0m\u001b[1;33m\u001b[0m\u001b[0m\n\u001b[1;32m--> 575\u001b[1;33m     \u001b[0mparser\u001b[0m \u001b[1;33m=\u001b[0m \u001b[0mTextFileReader\u001b[0m\u001b[1;33m(\u001b[0m\u001b[0mfilepath_or_buffer\u001b[0m\u001b[1;33m,\u001b[0m \u001b[1;33m**\u001b[0m\u001b[0mkwds\u001b[0m\u001b[1;33m)\u001b[0m\u001b[1;33m\u001b[0m\u001b[1;33m\u001b[0m\u001b[0m\n\u001b[0m\u001b[0;32m    576\u001b[0m \u001b[1;33m\u001b[0m\u001b[0m\n\u001b[0;32m    577\u001b[0m     \u001b[1;32mif\u001b[0m \u001b[0mchunksize\u001b[0m \u001b[1;32mor\u001b[0m \u001b[0miterator\u001b[0m\u001b[1;33m:\u001b[0m\u001b[1;33m\u001b[0m\u001b[1;33m\u001b[0m\u001b[0m\n",
      "\u001b[1;32mE:\\Anaconda\\lib\\site-packages\\pandas\\io\\parsers\\readers.py\u001b[0m in \u001b[0;36m__init__\u001b[1;34m(self, f, engine, **kwds)\u001b[0m\n\u001b[0;32m    930\u001b[0m \u001b[1;33m\u001b[0m\u001b[0m\n\u001b[0;32m    931\u001b[0m         \u001b[0mself\u001b[0m\u001b[1;33m.\u001b[0m\u001b[0mhandles\u001b[0m\u001b[1;33m:\u001b[0m \u001b[0mIOHandles\u001b[0m \u001b[1;33m|\u001b[0m \u001b[1;32mNone\u001b[0m \u001b[1;33m=\u001b[0m \u001b[1;32mNone\u001b[0m\u001b[1;33m\u001b[0m\u001b[1;33m\u001b[0m\u001b[0m\n\u001b[1;32m--> 932\u001b[1;33m         \u001b[0mself\u001b[0m\u001b[1;33m.\u001b[0m\u001b[0m_engine\u001b[0m \u001b[1;33m=\u001b[0m \u001b[0mself\u001b[0m\u001b[1;33m.\u001b[0m\u001b[0m_make_engine\u001b[0m\u001b[1;33m(\u001b[0m\u001b[0mf\u001b[0m\u001b[1;33m,\u001b[0m \u001b[0mself\u001b[0m\u001b[1;33m.\u001b[0m\u001b[0mengine\u001b[0m\u001b[1;33m)\u001b[0m\u001b[1;33m\u001b[0m\u001b[1;33m\u001b[0m\u001b[0m\n\u001b[0m\u001b[0;32m    933\u001b[0m \u001b[1;33m\u001b[0m\u001b[0m\n\u001b[0;32m    934\u001b[0m     \u001b[1;32mdef\u001b[0m \u001b[0mclose\u001b[0m\u001b[1;33m(\u001b[0m\u001b[0mself\u001b[0m\u001b[1;33m)\u001b[0m\u001b[1;33m:\u001b[0m\u001b[1;33m\u001b[0m\u001b[1;33m\u001b[0m\u001b[0m\n",
      "\u001b[1;32mE:\\Anaconda\\lib\\site-packages\\pandas\\io\\parsers\\readers.py\u001b[0m in \u001b[0;36m_make_engine\u001b[1;34m(self, f, engine)\u001b[0m\n\u001b[0;32m   1214\u001b[0m             \u001b[1;31m# \"Union[str, PathLike[str], ReadCsvBuffer[bytes], ReadCsvBuffer[str]]\"\u001b[0m\u001b[1;33m\u001b[0m\u001b[1;33m\u001b[0m\u001b[0m\n\u001b[0;32m   1215\u001b[0m             \u001b[1;31m# , \"str\", \"bool\", \"Any\", \"Any\", \"Any\", \"Any\", \"Any\"\u001b[0m\u001b[1;33m\u001b[0m\u001b[1;33m\u001b[0m\u001b[0m\n\u001b[1;32m-> 1216\u001b[1;33m             self.handles = get_handle(  # type: ignore[call-overload]\n\u001b[0m\u001b[0;32m   1217\u001b[0m                 \u001b[0mf\u001b[0m\u001b[1;33m,\u001b[0m\u001b[1;33m\u001b[0m\u001b[1;33m\u001b[0m\u001b[0m\n\u001b[0;32m   1218\u001b[0m                 \u001b[0mmode\u001b[0m\u001b[1;33m,\u001b[0m\u001b[1;33m\u001b[0m\u001b[1;33m\u001b[0m\u001b[0m\n",
      "\u001b[1;32mE:\\Anaconda\\lib\\site-packages\\pandas\\io\\common.py\u001b[0m in \u001b[0;36mget_handle\u001b[1;34m(path_or_buf, mode, encoding, compression, memory_map, is_text, errors, storage_options)\u001b[0m\n\u001b[0;32m    784\u001b[0m         \u001b[1;32mif\u001b[0m \u001b[0mioargs\u001b[0m\u001b[1;33m.\u001b[0m\u001b[0mencoding\u001b[0m \u001b[1;32mand\u001b[0m \u001b[1;34m\"b\"\u001b[0m \u001b[1;32mnot\u001b[0m \u001b[1;32min\u001b[0m \u001b[0mioargs\u001b[0m\u001b[1;33m.\u001b[0m\u001b[0mmode\u001b[0m\u001b[1;33m:\u001b[0m\u001b[1;33m\u001b[0m\u001b[1;33m\u001b[0m\u001b[0m\n\u001b[0;32m    785\u001b[0m             \u001b[1;31m# Encoding\u001b[0m\u001b[1;33m\u001b[0m\u001b[1;33m\u001b[0m\u001b[0m\n\u001b[1;32m--> 786\u001b[1;33m             handle = open(\n\u001b[0m\u001b[0;32m    787\u001b[0m                 \u001b[0mhandle\u001b[0m\u001b[1;33m,\u001b[0m\u001b[1;33m\u001b[0m\u001b[1;33m\u001b[0m\u001b[0m\n\u001b[0;32m    788\u001b[0m                 \u001b[0mioargs\u001b[0m\u001b[1;33m.\u001b[0m\u001b[0mmode\u001b[0m\u001b[1;33m,\u001b[0m\u001b[1;33m\u001b[0m\u001b[1;33m\u001b[0m\u001b[0m\n",
      "\u001b[1;31mFileNotFoundError\u001b[0m: [Errno 2] No such file or directory: 'My Skill/hotel.csv'"
     ]
    }
   ],
   "source": [
    "df = pd.read_csv('My Skill/hotel.csv')\n",
    "df.head()"
   ]
  },
  {
   "cell_type": "code",
   "execution_count": null,
   "id": "18d180b3",
   "metadata": {},
   "outputs": [],
   "source": [
    "df.shape"
   ]
  },
  {
   "cell_type": "markdown",
   "id": "f8bf61df",
   "metadata": {},
   "source": [
    "# Soal 1\n",
    "Buatlah fungsi dengan satu argumen berupa dataframe untuk mengecek jumlah null value (nilai yang berisi null atau kosong), percent null value (nilai yang berisi null atau kosong dalam persen), data type (tipe data), serta jumlah unique value (nilai yang unik) tiap kolom yang ada di sebuah dataframe"
   ]
  },
  {
   "cell_type": "code",
   "execution_count": null,
   "id": "e17bbd7c",
   "metadata": {},
   "outputs": [],
   "source": [
    "data = []\n",
    "\n",
    "def check(x):\n",
    "    for i in x.columns:\n",
    "        data.append([x[i].dtype,\\\n",
    "                     x[i].isna().sum(),\\\n",
    "                     round(100*(x[i].isna().sum()/len(x)),2),\\\n",
    "                     x[i].nunique()\n",
    "                    ])\n",
    "    return pd.DataFrame(columns=['dataType', 'null', 'nullPct', 'unique'], data=data, index=x.columns)"
   ]
  },
  {
   "cell_type": "code",
   "execution_count": null,
   "id": "c26d1169",
   "metadata": {},
   "outputs": [],
   "source": [
    "check(df)"
   ]
  },
  {
   "cell_type": "code",
   "execution_count": null,
   "id": "7ed7071b",
   "metadata": {},
   "outputs": [],
   "source": [
    "df.shape"
   ]
  },
  {
   "cell_type": "markdown",
   "id": "2e624281",
   "metadata": {},
   "source": [
    "# Soal 2\n",
    "Ada berapa berapa jumlah pengunjung yang membatalkan reservasi dan yang tidak? Dan dari jumlah tersebut buatlah kesimpulan mengenai proporsisi masing-masing!"
   ]
  },
  {
   "cell_type": "code",
   "execution_count": null,
   "id": "e6687e12",
   "metadata": {},
   "outputs": [],
   "source": [
    "df['is_canceled'].value_counts()"
   ]
  },
  {
   "cell_type": "code",
   "execution_count": null,
   "id": "6350e2bb",
   "metadata": {},
   "outputs": [],
   "source": [
    "df.is_canceled.value_counts(normalize=True)"
   ]
  },
  {
   "cell_type": "code",
   "execution_count": null,
   "id": "baecaee5",
   "metadata": {},
   "outputs": [],
   "source": [
    "fig = plt.figure(figsize=(3,4))\n",
    "sns.countplot(data=df, x=df['is_canceled'])\n",
    "plt.title('Canceled Plot')\n",
    "plt.show()"
   ]
  },
  {
   "cell_type": "markdown",
   "id": "5655159f",
   "metadata": {},
   "source": [
    "# Soal 3\n",
    "A. Untuk “City Hotel”, berapa persen reservasi yang dibatalkan?\\\n",
    "B. Untuk “Resort Hotel”, berapa persen reservasi yang dibatalkan?"
   ]
  },
  {
   "cell_type": "code",
   "execution_count": null,
   "id": "a68766af",
   "metadata": {},
   "outputs": [],
   "source": [
    "df[df['hotel'] == 'City Hotel']['is_canceled'].value_counts(normalize=True)"
   ]
  },
  {
   "cell_type": "code",
   "execution_count": null,
   "id": "28e5aaf7",
   "metadata": {},
   "outputs": [],
   "source": [
    "df[df['hotel'] == 'Resort Hotel']['is_canceled'].value_counts(normalize=True)"
   ]
  },
  {
   "cell_type": "markdown",
   "id": "97780680",
   "metadata": {},
   "source": [
    "# Soal 4\n",
    "Lakukan filter sehingga hanya menampilkan data pengunjung yang tidak membatalkan reservasi. Dan simpan hasilnya dalam variabel `df_checkout`"
   ]
  },
  {
   "cell_type": "code",
   "execution_count": null,
   "id": "5e647c0d",
   "metadata": {},
   "outputs": [],
   "source": [
    "df_checkout = df[df['is_canceled'] == 0]\n",
    "df_checkout.shape"
   ]
  },
  {
   "cell_type": "code",
   "execution_count": null,
   "id": "f75eaa6a",
   "metadata": {},
   "outputs": [],
   "source": [
    "df_checkout = df_checkout.reset_index()\n",
    "df_checkout.head()"
   ]
  },
  {
   "cell_type": "code",
   "execution_count": null,
   "id": "e19d4160",
   "metadata": {},
   "outputs": [],
   "source": [
    "df_checkout = df_checkout.rename(columns={'index' : 'id'})\n",
    "df_checkout.head()"
   ]
  },
  {
   "cell_type": "markdown",
   "id": "a46c447f",
   "metadata": {},
   "source": [
    "# Soal 5\n",
    "A. Tampilkan jumlah reservasi tiap bulan kedatangan untuk masing-masing jenis hotel.\\\n",
    "B. Lalu di bulan apa terdapat reservasi yang paling banyak di masing-masing jenis hotel? Buatlah kesimpulan apakah trennya sama di kedua jenis hotel?\\`\n",
    "C. Lakukan seperti point B namun dengan nama bulan yang sudah di-mapping menjadi bulan dalam angka\n",
    "> Untuk pertanyaan ini dan selanjutnya akan menggunakan dataframe `df_checkout`"
   ]
  },
  {
   "cell_type": "code",
   "execution_count": null,
   "id": "5f150d23",
   "metadata": {},
   "outputs": [],
   "source": [
    "df_checkout.groupby(['hotel','arrival_date_month'])['id'].nunique()"
   ]
  },
  {
   "cell_type": "code",
   "execution_count": null,
   "id": "01c0733a",
   "metadata": {},
   "outputs": [],
   "source": [
    "import calendar\n",
    "\n",
    "month_dict = {month: i \n",
    "              for i, month in enumerate(calendar.month_name) \n",
    "              if month\n",
    "             }\n",
    "\n",
    "month_dict"
   ]
  },
  {
   "cell_type": "code",
   "execution_count": null,
   "id": "4e632467",
   "metadata": {},
   "outputs": [],
   "source": [
    "df_checkout['arrival_date_month_num'] = df_checkout['arrival_date_month'].map(month_dict)\n",
    "df_checkout['arrival_date_month_num'].head()"
   ]
  },
  {
   "cell_type": "code",
   "execution_count": null,
   "id": "1e59422a",
   "metadata": {},
   "outputs": [],
   "source": [
    "df_checkout.groupby(['hotel', 'arrival_date_month_num']).size()"
   ]
  },
  {
   "cell_type": "code",
   "execution_count": null,
   "id": "18d6c4d9",
   "metadata": {},
   "outputs": [],
   "source": [
    "fig = plt.figure(figsize=(8,4))\n",
    "sns.countplot(data=df_checkout, x=df_checkout['arrival_date_month_num'], hue=df_checkout['hotel'])\n",
    "plt.xlabel('Arrival Month')\n",
    "plt.ylabel('Total Reservation')\n",
    "plt.show()"
   ]
  },
  {
   "cell_type": "markdown",
   "id": "c6db7b29",
   "metadata": {},
   "source": [
    "# Soal 6\n",
    "A. Buat sebuah kolom baru bernama `arrival_date` yang berisi info lengkap tentang tahun, bulan, dan tanggal kedatangan.\\\n",
    "B. Ubah kolom menjadi tipe datetime.\\\n",
    "Hint: gabungkan tahun, bulan, dan tanggal menjadi format `yyyy-mm-dd`"
   ]
  },
  {
   "cell_type": "code",
   "execution_count": null,
   "id": "7521e23f",
   "metadata": {},
   "outputs": [],
   "source": [
    "df_checkout[['arrival_date_year','arrival_date_month_num', 'arrival_date_day_of_month']].dtypes"
   ]
  },
  {
   "cell_type": "code",
   "execution_count": null,
   "id": "225f287c",
   "metadata": {},
   "outputs": [],
   "source": [
    "df_checkout['arrival_date_month_num'] = df_checkout['arrival_date_month_num'].astype('str').str.pad(2, fillchar='0')\n",
    "df_checkout['arrival_date_month_num']"
   ]
  },
  {
   "cell_type": "code",
   "execution_count": null,
   "id": "af525f17",
   "metadata": {},
   "outputs": [],
   "source": [
    "df_checkout['arrival_date_day_of_month'] = df_checkout['arrival_date_day_of_month'].astype('str').str.pad(2, fillchar='0')\n",
    "df_checkout['arrival_date_day_of_month'].head(10)"
   ]
  },
  {
   "cell_type": "code",
   "execution_count": null,
   "id": "f7180851",
   "metadata": {},
   "outputs": [],
   "source": [
    "df_checkout[['arrival_date_year','arrival_date_month_num', 'arrival_date_day_of_month']].dtypes"
   ]
  },
  {
   "cell_type": "code",
   "execution_count": null,
   "id": "a5374c04",
   "metadata": {},
   "outputs": [],
   "source": [
    "df_checkout['arrival_date'] = df_checkout['arrival_date_year'].astype('str') + '-' + \\\n",
    "                              df_checkout['arrival_date_month_num'] + '-' + \\\n",
    "                              df_checkout['arrival_date_day_of_month']\n",
    "\n",
    "df_checkout['arrival_date']"
   ]
  },
  {
   "cell_type": "code",
   "execution_count": null,
   "id": "970c7c0b",
   "metadata": {},
   "outputs": [],
   "source": [
    "df_checkout['arrival_date'].info()"
   ]
  },
  {
   "cell_type": "code",
   "execution_count": null,
   "id": "5dc793f2",
   "metadata": {},
   "outputs": [],
   "source": [
    "df_checkout['arrival_date'] = pd.to_datetime(df_checkout['arrival_date'])\n",
    "df_checkout['arrival_date'].info()"
   ]
  },
  {
   "cell_type": "markdown",
   "id": "5f73cb36",
   "metadata": {},
   "source": [
    "# Soal 7\n",
    "Mari kita bermain dengan time-series data menggunakan kolom `arrival_date`. Buat 2 dataframe yang menunjukkan sbb:\\\n",
    "A. Total reservasi harian (`df_total_daily`)\\\n",
    "B. Rata-rata reservasi harian di tiap minggu (`df_avg_daily`)\n",
    "> Stop and think! Apa perbedaan data yang ditunjukkan oleh `df_total_daily` dan `df_avg_daily`?"
   ]
  },
  {
   "cell_type": "code",
   "execution_count": null,
   "id": "f6caa0a4",
   "metadata": {},
   "outputs": [],
   "source": [
    "df_total_daily = df_checkout.resample('D', on='arrival_date').size().reset_index().rename(columns={0:'total_reservation'})\n",
    "df_total_daily.head(10)"
   ]
  },
  {
   "cell_type": "code",
   "execution_count": null,
   "id": "4ce7f406",
   "metadata": {},
   "outputs": [],
   "source": [
    "df_avg_daily = df_total_daily.resample('W', on='arrival_date')['total_reservation'].mean().reset_index()\n",
    "df_avg_daily#.head(10)"
   ]
  },
  {
   "cell_type": "code",
   "execution_count": null,
   "id": "07d48936",
   "metadata": {},
   "outputs": [],
   "source": [
    "print(df_total_daily.shape)\n",
    "print(df_avg_daily.shape)"
   ]
  },
  {
   "cell_type": "code",
   "execution_count": null,
   "id": "c2c34b4f",
   "metadata": {},
   "outputs": [],
   "source": [
    "plt.figure(figsize=(10,4))\n",
    "sns.lineplot(data=df_total_daily, x=df_total_daily['arrival_date'], y=df_total_daily['total_reservation'])\n",
    "plt.title('Daily Reservation', fontsize='x-large')\n",
    "plt.show()"
   ]
  },
  {
   "cell_type": "code",
   "execution_count": null,
   "id": "2a94a0fa",
   "metadata": {},
   "outputs": [],
   "source": [
    "plt.figure(figsize=(10,4))\n",
    "sns.lineplot(data=df_avg_daily, x=df_avg_daily['arrival_date'], y=df_avg_daily['total_reservation'])\n",
    "plt.title('Average Daily Reservation', fontsize='x-large')\n",
    "plt.show()"
   ]
  },
  {
   "cell_type": "markdown",
   "id": "55fc6aaf",
   "metadata": {},
   "source": [
    "# Soal 8\n",
    "A. Berapa rata-rata ADR berdasarkan jenis hotel dan jenis customer (customer_type)?\\\n",
    "B. Jenis customer mana yang memiliki ADR paling besar di masing-masing jenis hotel?"
   ]
  },
  {
   "cell_type": "code",
   "execution_count": null,
   "id": "6d0caae9",
   "metadata": {},
   "outputs": [],
   "source": [
    "df_checkout['adr'].head()"
   ]
  },
  {
   "cell_type": "code",
   "execution_count": null,
   "id": "b67a9f9c",
   "metadata": {},
   "outputs": [],
   "source": [
    "pd.DataFrame(df_checkout.groupby(['hotel', 'customer_type'])['adr'].mean()).reset_index()"
   ]
  },
  {
   "cell_type": "code",
   "execution_count": null,
   "id": "031e7fb9",
   "metadata": {},
   "outputs": [],
   "source": [
    "sns.boxplot(data=df_checkout, x=df_checkout['adr'], y=df_checkout['hotel'], hue=df_checkout['customer_type'])"
   ]
  }
 ],
 "metadata": {
  "kernelspec": {
   "display_name": "Python 3 (ipykernel)",
   "language": "python",
   "name": "python3"
  },
  "language_info": {
   "codemirror_mode": {
    "name": "ipython",
    "version": 3
   },
   "file_extension": ".py",
   "mimetype": "text/x-python",
   "name": "python",
   "nbconvert_exporter": "python",
   "pygments_lexer": "ipython3",
   "version": "3.9.13"
  }
 },
 "nbformat": 4,
 "nbformat_minor": 5
}
